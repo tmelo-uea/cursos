{
  "nbformat": 4,
  "nbformat_minor": 0,
  "metadata": {
    "colab": {
      "provenance": []
    },
    "kernelspec": {
      "name": "python3",
      "display_name": "Python 3"
    },
    "language_info": {
      "name": "python"
    }
  },
  "cells": [
    {
      "cell_type": "markdown",
      "source": [
        "# Instalação de Bibliotecas\n"
      ],
      "metadata": {
        "id": "KQwhLhgS2uX1"
      }
    },
    {
      "cell_type": "code",
      "source": [
        "!pip install pytelegrambotapi\n",
        "!pip install unidecode"
      ],
      "metadata": {
        "id": "F9R9EoToGg35"
      },
      "execution_count": null,
      "outputs": []
    },
    {
      "cell_type": "markdown",
      "source": [
        "# Lendo nosso dataset"
      ],
      "metadata": {
        "id": "uNN4jCSEuIwb"
      }
    },
    {
      "cell_type": "markdown",
      "source": [
        "## Pandas\n",
        "\n",
        "\n",
        "A biblioteca pandas é uma poderosa biblioteca em Python amplamente utilizada para análise de dados e manipulação de estruturas de dados tabulares, como DataFrames. Ela oferece funcionalidades para carregar, limpar, transformar, analisar e visualizar dados de maneira eficiente."
      ],
      "metadata": {
        "id": "8AD0m3XC1lKg"
      }
    },
    {
      "cell_type": "code",
      "execution_count": null,
      "metadata": {
        "id": "humvcBit866v"
      },
      "outputs": [],
      "source": [
        "import pandas as pd"
      ]
    },
    {
      "cell_type": "code",
      "source": [
        "dataset = pd.read_csv('https://raw.githubusercontent.com/tmelo-uea/cursos/main/dataset.csv', delimiter=';')"
      ],
      "metadata": {
        "id": "vZCv-bT9A06U"
      },
      "execution_count": null,
      "outputs": []
    },
    {
      "cell_type": "code",
      "source": [
        "dataset.head()"
      ],
      "metadata": {
        "id": "S4Usks_F9s6S"
      },
      "execution_count": null,
      "outputs": []
    },
    {
      "cell_type": "markdown",
      "source": [
        "# Bibliotecas para tratar strings\n",
        "\n"
      ],
      "metadata": {
        "id": "QY54VAeOtSNg"
      }
    },
    {
      "cell_type": "code",
      "source": [
        "import string"
      ],
      "metadata": {
        "id": "2xB8z69dtRWC"
      },
      "execution_count": null,
      "outputs": []
    },
    {
      "cell_type": "markdown",
      "source": [
        "# Bibliotecas de NLP"
      ],
      "metadata": {
        "id": "TSt6gitVtaBW"
      }
    },
    {
      "cell_type": "markdown",
      "source": [
        "## NLTK\n",
        "O Natural Language Toolkit (NLTK) é uma biblioteca em Python amplamente utilizada para processamento de linguagem natural (NLP). Ela oferece uma gama de ferramentas que tornam mais fácil a realização de análises textuais e tarefas de NLP, bem como a construção de sistemas de processamento de linguagem natural."
      ],
      "metadata": {
        "id": "v1Oa9wPu1Xis"
      }
    },
    {
      "cell_type": "code",
      "source": [
        "import nltk\n",
        "from nltk.corpus import stopwords\n",
        "from nltk.tokenize import word_tokenize\n",
        "\n",
        "nltk.download('stopwords')\n",
        "nltk.download('punkt')"
      ],
      "metadata": {
        "id": "wlvcJXPYt6vo"
      },
      "execution_count": null,
      "outputs": []
    },
    {
      "cell_type": "markdown",
      "source": [
        "# Biblioteca para remoção de acentuação"
      ],
      "metadata": {
        "id": "ry1OL9eDtks2"
      }
    },
    {
      "cell_type": "code",
      "source": [
        "from unidecode import unidecode"
      ],
      "metadata": {
        "id": "quJkLF12tv7I"
      },
      "execution_count": null,
      "outputs": []
    },
    {
      "cell_type": "markdown",
      "source": [
        "# Pré processamento de texto"
      ],
      "metadata": {
        "id": "Y99A0hNkyyRc"
      }
    },
    {
      "cell_type": "code",
      "source": [
        "def remove_pontuacao(text):\n",
        "    texto_limpo = ''\n",
        "    for palavra in text:\n",
        "      if palavra not in string.punctuation:\n",
        "        texto_limpo += palavra\n",
        "\n",
        "    return texto_limpo"
      ],
      "metadata": {
        "id": "7PcRsPShw-vc"
      },
      "execution_count": null,
      "outputs": []
    },
    {
      "cell_type": "code",
      "source": [
        "print(string.punctuation)"
      ],
      "metadata": {
        "id": "jYoqpw4Oynxc"
      },
      "execution_count": null,
      "outputs": []
    },
    {
      "cell_type": "code",
      "source": [
        "def preprocessamento(texto):\n",
        "    # Remove pontuações e símbolos\n",
        "    texto = remove_pontuacao(texto)\n",
        "\n",
        "    # Remover acentos\n",
        "    texto = unidecode(texto)\n",
        "\n",
        "    # Converte para minúsculo\n",
        "    texto = texto.lower()\n",
        "\n",
        "    # Tokenização\n",
        "    tokens = word_tokenize(texto)\n",
        "\n",
        "    # Remover stopwords\n",
        "    stop_words = stopwords.words('portuguese')\n",
        "    tokens = [token for token in tokens if token not in stop_words]\n",
        "\n",
        "    # Juntar as palavras novamente em uma string\n",
        "    texto_preprocessado = ' '.join(tokens)\n",
        "\n",
        "    return texto_preprocessado"
      ],
      "metadata": {
        "id": "aPkjAg359-Sm"
      },
      "execution_count": null,
      "outputs": []
    },
    {
      "cell_type": "code",
      "source": [
        "dataset[\"Pergunta_Preprocessada\"] = dataset[\"Pergunta\"].apply(preprocessamento)"
      ],
      "metadata": {
        "id": "cZrQsVkA-Lum"
      },
      "execution_count": null,
      "outputs": []
    },
    {
      "cell_type": "code",
      "source": [
        "dataset.head(n=10)"
      ],
      "metadata": {
        "id": "Qk9JZNflDb5l"
      },
      "execution_count": null,
      "outputs": []
    },
    {
      "cell_type": "markdown",
      "source": [
        "## Vetorização"
      ],
      "metadata": {
        "id": "b6oi8AAdyGRY"
      }
    },
    {
      "cell_type": "code",
      "source": [
        "from sklearn.feature_extraction.text import TfidfVectorizer\n",
        "from sklearn.metrics.pairwise import cosine_similarity"
      ],
      "metadata": {
        "id": "7qR7WNzVthdI"
      },
      "execution_count": null,
      "outputs": []
    },
    {
      "cell_type": "code",
      "source": [
        "vectorizer = TfidfVectorizer()\n",
        "tfidf_matrix = vectorizer.fit_transform(dataset[\"Pergunta_Preprocessada\"])"
      ],
      "metadata": {
        "id": "QoPmEEIb-Af6"
      },
      "execution_count": null,
      "outputs": []
    },
    {
      "cell_type": "markdown",
      "source": [
        "## Método para obter uma resposta a partir de uma pergunta"
      ],
      "metadata": {
        "id": "iL6OokJSzruL"
      }
    },
    {
      "cell_type": "code",
      "source": [
        "def obter_resposta(pergunta):\n",
        "    # Pré processa a sentença da pergunta\n",
        "    pergunta_processada = preprocessamento(pergunta)\n",
        "\n",
        "    # Transforma a pergunta para um vetor\n",
        "    pergunta_vector = vectorizer.transform([pergunta_processada])\n",
        "\n",
        "    # Calcula a similaridade do cosseno\n",
        "    similaridades = cosine_similarity(pergunta_vector, tfidf_matrix)\n",
        "\n",
        "    # Obtém o índice da pergunta mais similar\n",
        "    pergunta_index = similaridades.argmax()\n",
        "\n",
        "    # Devolve a resposta para o usuário\n",
        "    return dataset[\"Resposta\"].iloc[pergunta_index]"
      ],
      "metadata": {
        "id": "2CoGmXdI-bh3"
      },
      "execution_count": null,
      "outputs": []
    },
    {
      "cell_type": "markdown",
      "source": [
        "## Testando Chatbot"
      ],
      "metadata": {
        "id": "d97ztkSaGTCL"
      }
    },
    {
      "cell_type": "code",
      "source": [
        "flags = ['Fechar', 'Sair', 'Tchau']\n",
        "end = False\n",
        "\n",
        "while not end:\n",
        "    question = input()\n",
        "    if question in flags:\n",
        "        end = True\n",
        "        print('Finalizando Chat')\n",
        "        continue\n",
        "\n",
        "    answer = obter_resposta(question)\n",
        "    print(answer)"
      ],
      "metadata": {
        "id": "h6DEUI4C-uNi"
      },
      "execution_count": null,
      "outputs": []
    },
    {
      "cell_type": "markdown",
      "source": [
        "# Integrando com Telegram"
      ],
      "metadata": {
        "id": "OBSduVxuF_0h"
      }
    },
    {
      "cell_type": "code",
      "source": [
        "import telebot\n",
        "\n",
        "API_KEY = '7513630037:AAHNNmZ6g-6t9ODEq0l4OvdPQNhDx-c2a5U'\n",
        "bot = telebot.TeleBot(API_KEY)"
      ],
      "metadata": {
        "id": "SBiJOO4rGmTt"
      },
      "execution_count": null,
      "outputs": []
    },
    {
      "cell_type": "code",
      "source": [
        "@bot.message_handler(func=lambda message: True)\n",
        "def default(message):\n",
        "    resposta = obter_resposta(message.text)\n",
        "\n",
        "    bot.reply_to(\n",
        "        message,\n",
        "        resposta\n",
        "    )"
      ],
      "metadata": {
        "id": "DdYMGDGLGLgb"
      },
      "execution_count": null,
      "outputs": []
    },
    {
      "cell_type": "code",
      "source": [
        "bot.polling()"
      ],
      "metadata": {
        "id": "LMH7-Ya_Gb0U",
        "colab": {
          "base_uri": "https://localhost:8080/"
        },
        "outputId": "8286b882-492a-4149-a2e3-8c97eb3fb65d"
      },
      "execution_count": 26,
      "outputs": [
        {
          "metadata": {
            "tags": null
          },
          "name": "stderr",
          "output_type": "stream",
          "text": [
            "2025-07-11 12:58:51,613 (__init__.py:1241 MainThread) ERROR - TeleBot: \"Threaded polling exception: A request to the Telegram API was unsuccessful. Error code: 409. Description: Conflict: terminated by other getUpdates request; make sure that only one bot instance is running\"\n",
            "ERROR:TeleBot:Threaded polling exception: A request to the Telegram API was unsuccessful. Error code: 409. Description: Conflict: terminated by other getUpdates request; make sure that only one bot instance is running\n",
            "2025-07-11 12:58:51,616 (__init__.py:1243 MainThread) ERROR - TeleBot: \"Exception traceback:\n",
            "Traceback (most recent call last):\n",
            "  File \"/usr/local/lib/python3.11/dist-packages/telebot/__init__.py\", line 1234, in __threaded_polling\n",
            "    polling_thread.raise_exceptions()\n",
            "  File \"/usr/local/lib/python3.11/dist-packages/telebot/util.py\", line 111, in raise_exceptions\n",
            "    raise self.exception_info\n",
            "  File \"/usr/local/lib/python3.11/dist-packages/telebot/util.py\", line 93, in run\n",
            "    task(*args, **kwargs)\n",
            "  File \"/usr/local/lib/python3.11/dist-packages/telebot/__init__.py\", line 688, in __retrieve_updates\n",
            "    updates = self.get_updates(offset=(self.last_update_id + 1),\n",
            "             ^^^^^^^^^^^^^^^^^^^^^^^^^^^^^^^^^^^^^^^^^^^^^^^^^^\n",
            "  File \"/usr/local/lib/python3.11/dist-packages/telebot/__init__.py\", line 660, in get_updates\n",
            "    json_updates = apihelper.get_updates(\n",
            "                   ^^^^^^^^^^^^^^^^^^^^^^\n",
            "  File \"/usr/local/lib/python3.11/dist-packages/telebot/apihelper.py\", line 332, in get_updates\n",
            "    return _make_request(token, method_url, params=payload)\n",
            "           ^^^^^^^^^^^^^^^^^^^^^^^^^^^^^^^^^^^^^^^^^^^^^^^^\n",
            "  File \"/usr/local/lib/python3.11/dist-packages/telebot/apihelper.py\", line 168, in _make_request\n",
            "    json_result = _check_result(method_name, result)\n",
            "                  ^^^^^^^^^^^^^^^^^^^^^^^^^^^^^^^^^^\n",
            "  File \"/usr/local/lib/python3.11/dist-packages/telebot/apihelper.py\", line 195, in _check_result\n",
            "    raise ApiTelegramException(method_name, result, result_json)\n",
            "telebot.apihelper.ApiTelegramException: A request to the Telegram API was unsuccessful. Error code: 409. Description: Conflict: terminated by other getUpdates request; make sure that only one bot instance is running\n",
            "\"\n",
            "ERROR:TeleBot:Exception traceback:\n",
            "Traceback (most recent call last):\n",
            "  File \"/usr/local/lib/python3.11/dist-packages/telebot/__init__.py\", line 1234, in __threaded_polling\n",
            "    polling_thread.raise_exceptions()\n",
            "  File \"/usr/local/lib/python3.11/dist-packages/telebot/util.py\", line 111, in raise_exceptions\n",
            "    raise self.exception_info\n",
            "  File \"/usr/local/lib/python3.11/dist-packages/telebot/util.py\", line 93, in run\n",
            "    task(*args, **kwargs)\n",
            "  File \"/usr/local/lib/python3.11/dist-packages/telebot/__init__.py\", line 688, in __retrieve_updates\n",
            "    updates = self.get_updates(offset=(self.last_update_id + 1),\n",
            "             ^^^^^^^^^^^^^^^^^^^^^^^^^^^^^^^^^^^^^^^^^^^^^^^^^^\n",
            "  File \"/usr/local/lib/python3.11/dist-packages/telebot/__init__.py\", line 660, in get_updates\n",
            "    json_updates = apihelper.get_updates(\n",
            "                   ^^^^^^^^^^^^^^^^^^^^^^\n",
            "  File \"/usr/local/lib/python3.11/dist-packages/telebot/apihelper.py\", line 332, in get_updates\n",
            "    return _make_request(token, method_url, params=payload)\n",
            "           ^^^^^^^^^^^^^^^^^^^^^^^^^^^^^^^^^^^^^^^^^^^^^^^^\n",
            "  File \"/usr/local/lib/python3.11/dist-packages/telebot/apihelper.py\", line 168, in _make_request\n",
            "    json_result = _check_result(method_name, result)\n",
            "                  ^^^^^^^^^^^^^^^^^^^^^^^^^^^^^^^^^^\n",
            "  File \"/usr/local/lib/python3.11/dist-packages/telebot/apihelper.py\", line 195, in _check_result\n",
            "    raise ApiTelegramException(method_name, result, result_json)\n",
            "telebot.apihelper.ApiTelegramException: A request to the Telegram API was unsuccessful. Error code: 409. Description: Conflict: terminated by other getUpdates request; make sure that only one bot instance is running\n",
            "\n"
          ]
        }
      ]
    }
  ]
}