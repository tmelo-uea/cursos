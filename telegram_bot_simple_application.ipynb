{
  "nbformat": 4,
  "nbformat_minor": 0,
  "metadata": {
    "colab": {
      "provenance": [],
      "include_colab_link": true
    },
    "kernelspec": {
      "name": "python3",
      "display_name": "Python 3"
    },
    "language_info": {
      "name": "python"
    }
  },
  "cells": [
    {
      "cell_type": "markdown",
      "metadata": {
        "id": "view-in-github",
        "colab_type": "text"
      },
      "source": [
        "<a href=\"https://colab.research.google.com/github/tmelo-uea/cursos/blob/main/telegram_bot_simple_application.ipynb\" target=\"_parent\"><img src=\"https://colab.research.google.com/assets/colab-badge.svg\" alt=\"Open In Colab\"/></a>"
      ]
    },
    {
      "cell_type": "markdown",
      "source": [
        "#Instalação de Pacotes"
      ],
      "metadata": {
        "id": "Llho4Quob6Kw"
      }
    },
    {
      "cell_type": "code",
      "execution_count": 2,
      "metadata": {
        "id": "gDI91lX0xtfb",
        "colab": {
          "base_uri": "https://localhost:8080/"
        },
        "outputId": "4ef726d0-79e5-4d03-cd55-ebbe43d0eac1"
      },
      "outputs": [
        {
          "output_type": "stream",
          "name": "stdout",
          "text": [
            "Requirement already satisfied: pytelegrambotapi in /usr/local/lib/python3.10/dist-packages (4.22.1)\n",
            "Requirement already satisfied: requests in /usr/local/lib/python3.10/dist-packages (from pytelegrambotapi) (2.32.3)\n",
            "Requirement already satisfied: charset-normalizer<4,>=2 in /usr/local/lib/python3.10/dist-packages (from requests->pytelegrambotapi) (3.3.2)\n",
            "Requirement already satisfied: idna<4,>=2.5 in /usr/local/lib/python3.10/dist-packages (from requests->pytelegrambotapi) (3.8)\n",
            "Requirement already satisfied: urllib3<3,>=1.21.1 in /usr/local/lib/python3.10/dist-packages (from requests->pytelegrambotapi) (2.0.7)\n",
            "Requirement already satisfied: certifi>=2017.4.17 in /usr/local/lib/python3.10/dist-packages (from requests->pytelegrambotapi) (2024.8.30)\n"
          ]
        }
      ],
      "source": [
        "!pip install pytelegrambotapi"
      ]
    },
    {
      "cell_type": "markdown",
      "source": [
        "#Procedimento de Criação do Bot"
      ],
      "metadata": {
        "id": "1J_oxw85cJFA"
      }
    },
    {
      "cell_type": "markdown",
      "source": [
        "###Geração da chave (KEY) do Telegram\n",
        "\n",
        "### Etapas:"
      ],
      "metadata": {
        "id": "mSq3aXNFdxIH"
      }
    },
    {
      "cell_type": "markdown",
      "source": [
        "1. Abrir o Telegram (Web ou celular).\n",
        "![](https://raw.githubusercontent.com/gladson-sza/chatbot_telegram/master/telegram_screenshots/open_telegram.png)"
      ],
      "metadata": {
        "id": "Lsfj1-0XIk2j"
      }
    },
    {
      "cell_type": "markdown",
      "source": [
        "2. Buscar por `BotFather` no Telegram.\n",
        "![](https://raw.githubusercontent.com/gladson-sza/chatbot_telegram/master/telegram_screenshots/bot_father_search.png)"
      ],
      "metadata": {
        "id": "7urtCiYfIp90"
      }
    },
    {
      "cell_type": "markdown",
      "source": [
        "3. Clicar no `BotFather`.\n",
        "![](https://raw.githubusercontent.com/gladson-sza/chatbot_telegram/master/telegram_screenshots/bot_father_click.png)"
      ],
      "metadata": {
        "id": "LNfOmspjIp1z"
      }
    },
    {
      "cell_type": "markdown",
      "source": [
        "4. Clicar no botão `START`.\n",
        "![](https://raw.githubusercontent.com/gladson-sza/chatbot_telegram/master/telegram_screenshots/bot_father_start.png)"
      ],
      "metadata": {
        "id": "Z4kh-EHlIpZN"
      }
    },
    {
      "cell_type": "markdown",
      "source": [
        "5. Clicar em `\\newbot`.\n",
        "![](https://raw.githubusercontent.com/gladson-sza/chatbot_telegram/master/telegram_screenshots/bot_father_start_click.png)"
      ],
      "metadata": {
        "id": "fKwlfj1tIpL9"
      }
    },
    {
      "cell_type": "markdown",
      "source": [
        "6. Escrever (escolher) um nome para o Bot.\n",
        "![](https://raw.githubusercontent.com/gladson-sza/chatbot_telegram/master/telegram_screenshots/bot_father_choose_a_name.png)"
      ],
      "metadata": {
        "id": "sjHaTKrjIo0z"
      }
    },
    {
      "cell_type": "markdown",
      "source": [
        "7. Escrever (escolher) um username para o Bot. O username deve terminar com bot e deve ser único.\n",
        "![](https://raw.githubusercontent.com/gladson-sza/chatbot_telegram/master/telegram_screenshots/bot_father_choose_a_username.png)"
      ],
      "metadata": {
        "id": "VAWbIQxwI27I"
      }
    },
    {
      "cell_type": "markdown",
      "source": [
        "8. Salvar a KEY gerada.\n",
        "![](https://raw.githubusercontent.com/gladson-sza/chatbot_telegram/master/telegram_screenshots/bot_father_key.png)"
      ],
      "metadata": {
        "id": "zohJtq1fI2xq"
      }
    },
    {
      "cell_type": "markdown",
      "source": [
        "## Importar bibliotecas, e inserir a chave (KEY) de API do Telegram"
      ],
      "metadata": {
        "id": "rBrBuJqKniHu"
      }
    },
    {
      "cell_type": "code",
      "source": [
        "import telebot\n",
        "\n",
        "API_KEY = ''\n",
        "bot = telebot.TeleBot(API_KEY)"
      ],
      "metadata": {
        "id": "zQmSw0W5x29T",
        "colab": {
          "base_uri": "https://localhost:8080/",
          "height": 329
        },
        "outputId": "3c42a874-e0f6-4638-eaae-6c721dce236d"
      },
      "execution_count": 3,
      "outputs": [
        {
          "output_type": "error",
          "ename": "ValueError",
          "evalue": "Token must contain a colon",
          "traceback": [
            "\u001b[0;31m---------------------------------------------------------------------------\u001b[0m",
            "\u001b[0;31mValueError\u001b[0m                                Traceback (most recent call last)",
            "\u001b[0;32m<ipython-input-3-a2b3be7a2f7c>\u001b[0m in \u001b[0;36m<cell line: 4>\u001b[0;34m()\u001b[0m\n\u001b[1;32m      2\u001b[0m \u001b[0;34m\u001b[0m\u001b[0m\n\u001b[1;32m      3\u001b[0m \u001b[0mAPI_KEY\u001b[0m \u001b[0;34m=\u001b[0m \u001b[0;34m''\u001b[0m\u001b[0;34m\u001b[0m\u001b[0;34m\u001b[0m\u001b[0m\n\u001b[0;32m----> 4\u001b[0;31m \u001b[0mbot\u001b[0m \u001b[0;34m=\u001b[0m \u001b[0mtelebot\u001b[0m\u001b[0;34m.\u001b[0m\u001b[0mTeleBot\u001b[0m\u001b[0;34m(\u001b[0m\u001b[0mAPI_KEY\u001b[0m\u001b[0;34m)\u001b[0m\u001b[0;34m\u001b[0m\u001b[0;34m\u001b[0m\u001b[0m\n\u001b[0m",
            "\u001b[0;32m/usr/local/lib/python3.10/dist-packages/telebot/__init__.py\u001b[0m in \u001b[0;36m__init__\u001b[0;34m(self, token, parse_mode, threaded, skip_pending, num_threads, next_step_backend, reply_backend, exception_handler, last_update_id, suppress_middleware_excepions, state_storage, use_class_middlewares, disable_web_page_preview, disable_notification, protect_content, allow_sending_without_reply, colorful_logs, validate_token)\u001b[0m\n\u001b[1;32m    194\u001b[0m \u001b[0;34m\u001b[0m\u001b[0m\n\u001b[1;32m    195\u001b[0m         \u001b[0;32mif\u001b[0m \u001b[0mvalidate_token\u001b[0m\u001b[0;34m:\u001b[0m\u001b[0;34m\u001b[0m\u001b[0;34m\u001b[0m\u001b[0m\n\u001b[0;32m--> 196\u001b[0;31m             \u001b[0mutil\u001b[0m\u001b[0;34m.\u001b[0m\u001b[0mvalidate_token\u001b[0m\u001b[0;34m(\u001b[0m\u001b[0mself\u001b[0m\u001b[0;34m.\u001b[0m\u001b[0mtoken\u001b[0m\u001b[0;34m)\u001b[0m\u001b[0;34m\u001b[0m\u001b[0;34m\u001b[0m\u001b[0m\n\u001b[0m\u001b[1;32m    197\u001b[0m \u001b[0;34m\u001b[0m\u001b[0m\n\u001b[1;32m    198\u001b[0m         \u001b[0mself\u001b[0m\u001b[0;34m.\u001b[0m\u001b[0mbot_id\u001b[0m\u001b[0;34m:\u001b[0m \u001b[0mUnion\u001b[0m\u001b[0;34m[\u001b[0m\u001b[0mint\u001b[0m\u001b[0;34m,\u001b[0m \u001b[0;32mNone\u001b[0m\u001b[0;34m]\u001b[0m \u001b[0;34m=\u001b[0m \u001b[0mutil\u001b[0m\u001b[0;34m.\u001b[0m\u001b[0mextract_bot_id\u001b[0m\u001b[0;34m(\u001b[0m\u001b[0mself\u001b[0m\u001b[0;34m.\u001b[0m\u001b[0mtoken\u001b[0m\u001b[0;34m)\u001b[0m \u001b[0;31m# subject to change in future, unspecified\u001b[0m\u001b[0;34m\u001b[0m\u001b[0;34m\u001b[0m\u001b[0m\n",
            "\u001b[0;32m/usr/local/lib/python3.10/dist-packages/telebot/util.py\u001b[0m in \u001b[0;36mvalidate_token\u001b[0;34m(token)\u001b[0m\n\u001b[1;32m    692\u001b[0m \u001b[0;34m\u001b[0m\u001b[0m\n\u001b[1;32m    693\u001b[0m     \u001b[0;32mif\u001b[0m \u001b[0;34m':'\u001b[0m \u001b[0;32mnot\u001b[0m \u001b[0;32min\u001b[0m \u001b[0mtoken\u001b[0m\u001b[0;34m:\u001b[0m\u001b[0;34m\u001b[0m\u001b[0;34m\u001b[0m\u001b[0m\n\u001b[0;32m--> 694\u001b[0;31m         \u001b[0;32mraise\u001b[0m \u001b[0mValueError\u001b[0m\u001b[0;34m(\u001b[0m\u001b[0;34m'Token must contain a colon'\u001b[0m\u001b[0;34m)\u001b[0m\u001b[0;34m\u001b[0m\u001b[0;34m\u001b[0m\u001b[0m\n\u001b[0m\u001b[1;32m    695\u001b[0m \u001b[0;34m\u001b[0m\u001b[0m\n\u001b[1;32m    696\u001b[0m     \u001b[0;32mif\u001b[0m \u001b[0mlen\u001b[0m\u001b[0;34m(\u001b[0m\u001b[0mtoken\u001b[0m\u001b[0;34m.\u001b[0m\u001b[0msplit\u001b[0m\u001b[0;34m(\u001b[0m\u001b[0;34m':'\u001b[0m\u001b[0;34m)\u001b[0m\u001b[0;34m)\u001b[0m \u001b[0;34m!=\u001b[0m \u001b[0;36m2\u001b[0m\u001b[0;34m:\u001b[0m\u001b[0;34m\u001b[0m\u001b[0;34m\u001b[0m\u001b[0m\n",
            "\u001b[0;31mValueError\u001b[0m: Token must contain a colon"
          ]
        }
      ]
    },
    {
      "cell_type": "markdown",
      "source": [
        "## Cria nossos dicionários contendo as informações que serão utilizadas para preencher nossa base de dados"
      ],
      "metadata": {
        "id": "MMCX0QyEnp21"
      }
    },
    {
      "cell_type": "code",
      "source": [
        "descricao_das_cidades = {\n",
        "    '/manaus': 'Manaus, nos bancos do Rio Negro no noroeste do Brasil, é a capital do vasto estado do Amazonas. Trata-se de um ponto de partida importante próximo à Floresta Amazônica. A leste da cidade, o Rio Negro, escuro, converge para o Rio Solimões, barrento, resultando em um fenômeno visual incrível chamado de \"Encontro das Águas\". A combinação dos afluentes forma o Rio Amazonas.',\n",
        "    '/sao_paulo': 'São Paulo, centro financeiro do Brasil, está entre as cidades mais populosas do mundo, com diversas instituições culturais e uma rica tradição arquitetônica. Há prédios simbólicos como a catedral neogótica, o Edifício Martinelli, um arranha-céu inaugurado em 1929, e o Edifício Copan, com suas linhas curvas projetadas pelo arquiteto modernista Oscar Niemeyer. A igreja em estilo colonial do Pátio do Colégio marca o local onde os padres jesuítas fundaram a cidade em 1554.',\n",
        "    '/rio_de_janeiro': 'O Rio de Janeiro é uma grande cidade brasileira à beira-mar, famosa pelas praias de Copacabana e Ipanema, pela estátua de 38 metros de altura do Cristo Redentor, no topo do Corcovado, e pelo Pão de Açúcar, um pico de granito com teleféricos até seu cume. A cidade também é conhecida pelas grandes favelas. O empolgante Carnaval, com carros alegóricos, fantasias extravagantes e sambistas, é considerado o maior do mundo.',\n",
        "    '/fortaleza': 'Fortaleza é a capital do estado do Ceará, no Nordeste brasileiro. A cidade é conhecida por suas praias, com falésias vermelhas, palmeiras, dunas e lagoas. As tradições folclóricas da cidade podem ser vistas em apresentações de dança no Theatro José de Alencar, construção em estilo art nouveau inaugurada em 1910. Outro destaque arquitetônico é a Catedral Metropolitana, em estilo neogótico.'\n",
        "}\n",
        "\n",
        "descricao_dos_pontos_turisticos = {\n",
        "    '/cristo_redentor': 'Cristo Redentor é uma estátua art déco que retrata Jesus Cristo, localizada no topo do morro do Corcovado, a 709 metros acima do nível do mar, com vista para parte considerável da cidade brasileira do Rio de Janeiro. Feito de concreto armado e pedra-sabão, tem trinta metros de altura (uma das maiores estátuas do mundo), sem contar os oito metros do pedestal. Seus braços se esticam por 28 metros de largura e a estrutura pesa 1145 toneladas',\n",
        "    '/teatro_amazonas': 'O Teatro Amazonas é um dos mais importantes teatros do Brasil e o principal cartão-postal da cidade de Manaus. Localizado no Largo de São Sebastião, no Centro Histórico, foi inaugurado em 1896 para atender ao desejo da elite amazonense da época, que idealizava a cidade à altura dos grandes centros culturais. É amplamente considerado como um dos mais belos teatros do mundo.',\n",
        "    '/parque_ibirapuera': 'Inaugurado em 1954 com uma área de 158 hectares (390 acres), entre as avenidas Pedro Álvares Cabral, República do Líbano e IV Centenário, o Parque Ibirapuera é um parque tombado e patrimônio histórico de São Paulo. Seus jardins foram desenhados pelo paisagista Otávio Augusto Teixeira Mendes, após o conceito e anteprojeto do paisagista Roberto Burle Marx',\n",
        "    '/beira_mar': 'Construída há pouco mais de 50 anos, a Avenida Beira-Mar é um dos principais cartões-postais de Fortaleza e é o local de diversão e trabalho mais valorizado na capital devido à sua orla cheia de luxuosos edifícios e hotéis e pelo calçadão movimentado por turistas e praticantes de atividades físicas. '\n",
        "}"
      ],
      "metadata": {
        "id": "W5TCoDja1WSm"
      },
      "execution_count": null,
      "outputs": []
    },
    {
      "cell_type": "markdown",
      "source": [
        "## Mapeia os nomes para comandos no nosso chat do Telegram"
      ],
      "metadata": {
        "id": "115yH6cBn8s5"
      }
    },
    {
      "cell_type": "code",
      "source": [
        "comandos_pontos_turisticos = ['cristo_redentor', 'teatro_amazonas', 'parque_ibirapuera', 'beira_mar']\n",
        "comandos_cidades = ['manaus', 'sao_paulo', 'rio_de_janeiro', 'fortaleza']\n",
        "\n",
        "dicionario_pontos_turisticos = {\n",
        "    '/cristo_redentor': 'Cristo Redentor',\n",
        "    '/teatro_amazonas': 'Teatro Amazonas',\n",
        "    '/parque_ibirapuera': 'Parque Ibirapuera',\n",
        "    '/beira_mar': 'Beira Mar'\n",
        "}\n",
        "\n",
        "dicionario_cidades = {\n",
        "    '/manaus': 'Manaus',\n",
        "    '/sao_paulo': 'São Paulo',\n",
        "    '/rio_de_janeiro': 'Rio de Janeiro',\n",
        "    '/fortaleza': 'Fortaleza'\n",
        "}\n",
        "\n"
      ],
      "metadata": {
        "id": "WCrPMmz9f7gI"
      },
      "execution_count": null,
      "outputs": []
    },
    {
      "cell_type": "markdown",
      "source": [
        "## Configura os Handlers que irão lidar com os comandos informados ao bots"
      ],
      "metadata": {
        "id": "xVAKOdhcorBY"
      }
    },
    {
      "cell_type": "markdown",
      "source": [
        "### Trata o comando /lista_cidades exibindo as cidades disponíveis para consulta"
      ],
      "metadata": {
        "id": "2ku60o-ifr5e"
      }
    },
    {
      "cell_type": "code",
      "source": [
        "@bot.message_handler(commands=['listar_cidades'])\n",
        "def mostrar_cidades(message):\n",
        "    reply_message = ''\n",
        "    for item in dicionario_cidades.items():\n",
        "        reply_message += f'{item[0]} - {item[1]}\\n'\n",
        "\n",
        "    bot.reply_to(message, reply_message)"
      ],
      "metadata": {
        "id": "hSkigvQBIKSB"
      },
      "execution_count": null,
      "outputs": []
    },
    {
      "cell_type": "markdown",
      "source": [
        "### Trata o comando /lista_de_atracoes exibindo as cidades disponíveis para consulta"
      ],
      "metadata": {
        "id": "3MSUt_0AgB7-"
      }
    },
    {
      "cell_type": "code",
      "source": [
        "@bot.message_handler(commands=['lista_de_atracoes'])\n",
        "def mostrar_pontos_turisticos(message):\n",
        "    reply_message = ''\n",
        "    for item in dicionario_pontos_turisticos.items():\n",
        "        reply_message += f'{item[0]} - {item[1]}\\n'\n",
        "\n",
        "    bot.reply_to(message, reply_message)"
      ],
      "metadata": {
        "id": "vJYK5URhIPAv"
      },
      "execution_count": null,
      "outputs": []
    },
    {
      "cell_type": "markdown",
      "source": [
        "### Trata os comandos relacionados aos nomes das cidades, trazendo as informações previamente salvas em nosso dicionário"
      ],
      "metadata": {
        "id": "7-HDoM8EgGLp"
      }
    },
    {
      "cell_type": "code",
      "source": [
        "@bot.message_handler(commands=comandos_cidades)\n",
        "def mostrar_descricao_das_cidades(message):\n",
        "    bot.reply_to(message, descricao_das_cidades[message.text])"
      ],
      "metadata": {
        "id": "ekdpBLXwIRke"
      },
      "execution_count": null,
      "outputs": []
    },
    {
      "cell_type": "markdown",
      "source": [
        "### Trata os comandos relacionados às atrações turísticas, trazendo as informações previamente salvas em nosso dicionário"
      ],
      "metadata": {
        "id": "bfj7egQxgQg1"
      }
    },
    {
      "cell_type": "code",
      "source": [
        "@bot.message_handler(commands=comandos_pontos_turisticos)\n",
        "def mostrar_descricao_dos_pontos_turisticos(message):\n",
        "    bot.reply_to(message, descricao_dos_pontos_turisticos[message.text])"
      ],
      "metadata": {
        "id": "3lIJQJBo1Wfk"
      },
      "execution_count": null,
      "outputs": []
    },
    {
      "cell_type": "markdown",
      "source": [
        "### Exibe a mensagem inicial de boas vindas ao Bot, esta deve ser a última função, pois o seu handler é o mais genérico"
      ],
      "metadata": {
        "id": "YqCh0302fjs-"
      }
    },
    {
      "cell_type": "code",
      "source": [
        "@bot.message_handler(func=lambda message: True)\n",
        "def default(message):\n",
        "    bot.reply_to(\n",
        "        message,\n",
        "        'Olá, seja bem vindo ao nosso catálogo de atrações turísticas\\n\\n/listar_cidades - Exibe as cidades disponíveis para a consulta\\n/lista_de_atracoes - Exibe as atrações disponíveis para a consulta'\n",
        "      )"
      ],
      "metadata": {
        "id": "DrE9bhZyHnww"
      },
      "execution_count": null,
      "outputs": []
    },
    {
      "cell_type": "markdown",
      "source": [
        "## Inicia o processo de pooling para que o bot fique escutando os comandos direcionados a ele\n",
        "\n",
        "### Deve ficar executando para que mantenha a comunicação com o bot"
      ],
      "metadata": {
        "id": "isNdcrKCo2n3"
      }
    },
    {
      "cell_type": "code",
      "source": [
        "bot.polling()"
      ],
      "metadata": {
        "id": "srzw2EBHyjlt"
      },
      "execution_count": null,
      "outputs": []
    }
  ]
}